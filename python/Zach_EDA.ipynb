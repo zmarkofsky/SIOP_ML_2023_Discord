{
  "cells": [
    {
      "cell_type": "markdown",
      "metadata": {
        "id": "m08RHfrjjjK0"
      },
      "source": [
        "# Environment Setup and Data Import"
      ]
    },
    {
      "cell_type": "code",
      "execution_count": 2,
      "metadata": {
        "colab": {
          "base_uri": "https://localhost:8080/"
        },
        "id": "Wdo-hYJ35LLp",
        "outputId": "7bfecf80-1292-4b10-972d-4fda21ca6fa3"
      },
      "outputs": [],
      "source": [
        "import polars as pl\n",
        "from ydata_profiling import ProfileReport\n",
        "import scattertext as st\n",
        "import spacy\n",
        "from pprint import pprint\n",
        "import seaborn as sns\n",
        "%matplotlib inline\n"
      ]
    },
    {
      "cell_type": "code",
      "execution_count": 3,
      "metadata": {
        "colab": {
          "base_uri": "https://localhost:8080/"
        },
        "id": "R0_Zyk9UM31V",
        "outputId": "443e3a4f-c130-4a43-8184-414886f27ec4"
      },
      "outputs": [
        {
          "data": {
            "text/plain": [
              "polars.config.Config"
            ]
          },
          "execution_count": 3,
          "metadata": {},
          "output_type": "execute_result"
        }
      ],
      "source": [
        "pl.Config.set_fmt_str_lengths(10)\n"
      ]
    },
    {
      "cell_type": "markdown",
      "metadata": {
        "id": "TDRjqKeWJsHU"
      },
      "source": [
        "# EDA"
      ]
    },
    {
      "cell_type": "code",
      "execution_count": 4,
      "metadata": {
        "id": "m5FuHie65dUU"
      },
      "outputs": [],
      "source": [
        "#replace with your own file path\n",
        "df_train_raw = pl.read_csv(\"/home/zacharymarkofsky/Documents/GitHub/SIOP_ML_2023_Discord/data/train_pub.csv\",null_values=\"NA\")"
      ]
    },
    {
      "cell_type": "code",
      "execution_count": 5,
      "metadata": {},
      "outputs": [],
      "source": [
        "profile = ProfileReport(df_train_raw.to_pandas(), title=\"Pandas Profiling Report\")"
      ]
    },
    {
      "cell_type": "code",
      "execution_count": 6,
      "metadata": {},
      "outputs": [],
      "source": [
        "# profile.to_widgets()"
      ]
    },
    {
      "cell_type": "code",
      "execution_count": 7,
      "metadata": {
        "colab": {
          "base_uri": "https://localhost:8080/",
          "height": 1000
        },
        "id": "baBdWGjv5wS1",
        "outputId": "8af766b9-fedc-4463-8c87-5951a3327a4e"
      },
      "outputs": [
        {
          "data": {
            "text/html": [
              "<div><style>\n",
              ".dataframe > thead > tr > th,\n",
              ".dataframe > tbody > tr > td {\n",
              "  text-align: right;\n",
              "}\n",
              "</style>\n",
              "<small>shape: (1466, 25)</small><table border=\"1\" class=\"dataframe\"><thead><tr><th>response_id</th><th>rating_chooses_appropriate_action</th><th>rating_commits_to_action</th><th>rating_gathers_information</th><th>rating_identifies_issues_opportunities</th><th>rating_interprets_information</th><th>rating_involves_others</th><th>rating_decision_making_final_score</th><th>text_exercise_4</th><th>text_exercise_5</th><th>text_exercise_6</th><th>text_exercise_7</th><th>text_exercise_8</th><th>text_exercise_9</th><th>text_exercise_10</th><th>text_exercise_11</th><th>text_exercise_12</th><th>text_exercise_13</th><th>text_exercise_14</th><th>text_exercise_15</th><th>text_exercise_16</th><th>text_exercise_17</th><th>text_exercise_18</th><th>text_exercise_19</th><th>text_exercise_final</th></tr><tr><td>str</td><td>i64</td><td>i64</td><td>i64</td><td>i64</td><td>i64</td><td>i64</td><td>i64</td><td>str</td><td>str</td><td>str</td><td>str</td><td>str</td><td>str</td><td>str</td><td>str</td><td>str</td><td>str</td><td>str</td><td>str</td><td>str</td><td>str</td><td>str</td><td>str</td><td>str</td></tr></thead><tbody><tr><td>&quot;NlmLRJzhn…</td><td>2</td><td>2</td><td>2</td><td>2</td><td>2</td><td>3</td><td>2</td><td>null</td><td>&quot;Hi Tracy,…</td><td>null</td><td>null</td><td>&quot;Hi Taylor…</td><td>&quot;Taylor/Ki…</td><td>&quot;Haley, I …</td><td>null</td><td>null</td><td>&quot;Kim/Taylo…</td><td>null</td><td>null</td><td>&quot;Taylor, P…</td><td>null</td><td>&quot;Taylor, P…</td><td>&quot;Kim, Plea…</td><td>&quot;See below…</td></tr><tr><td>&quot;mQoZghwfM…</td><td>4</td><td>3</td><td>4</td><td>3</td><td>4</td><td>2</td><td>6</td><td>null</td><td>&quot;Hi Tracy,…</td><td>null</td><td>null</td><td>&quot;Hi Talyor…</td><td>null</td><td>&quot;Hi Mr. Ro…</td><td>null</td><td>null</td><td>null</td><td>null</td><td>null</td><td>&quot;Hi Taylor…</td><td>null</td><td>&quot;Hi Taylor…</td><td>&quot;Liang, St…</td><td>&quot;Original …</td></tr><tr><td>&quot;FjIOCrTtD…</td><td>2</td><td>2</td><td>2</td><td>2</td><td>2</td><td>2</td><td>2</td><td>null</td><td>null</td><td>&quot;J.J pleas…</td><td>&quot;J.J We wi…</td><td>null</td><td>&quot;I will lo…</td><td>null</td><td>&quot;Great, I …</td><td>&quot;Thank you…</td><td>null</td><td>&quot;Thank you…</td><td>null</td><td>null</td><td>&quot;Thank You…</td><td>null</td><td>&quot;Wait , Le…</td><td>&quot;No, Focus…</td></tr><tr><td>&quot;CQGLdZnCH…</td><td>3</td><td>3</td><td>3</td><td>2</td><td>2</td><td>2</td><td>3</td><td>null</td><td>null</td><td>&quot;Hi Paxton…</td><td>&quot;Hi Patton…</td><td>null</td><td>&quot;Hi Norman…</td><td>null</td><td>&quot;Hi Foster…</td><td>&quot;Jennifer …</td><td>null</td><td>&quot;, Hi Paxt…</td><td>&quot;Hi Isaac …</td><td>null</td><td>&quot;Hi Bern I…</td><td>null</td><td>&quot;H Daisha …</td><td>null</td></tr><tr><td>&quot;LERqIHLgq…</td><td>3</td><td>3</td><td>2</td><td>3</td><td>2</td><td>2</td><td>3</td><td>null</td><td>null</td><td>null</td><td>&quot;JJ HR alo…</td><td>null</td><td>&quot;Alex I ap…</td><td>null</td><td>&quot;Shea Base…</td><td>&quot;Jennifer …</td><td>null</td><td>&quot;JJ Thank …</td><td>&quot;Isaac By …</td><td>null</td><td>null</td><td>null</td><td>&quot;Vic I sug…</td><td>&quot;Original …</td></tr><tr><td>&quot;RxMKjJdOb…</td><td>3</td><td>4</td><td>2</td><td>3</td><td>2</td><td>3</td><td>3</td><td>null</td><td>null</td><td>&quot;J.J. I un…</td><td>&quot;J.J. I&#x27;m …</td><td>null</td><td>null</td><td>null</td><td>&quot;Thanks fo…</td><td>&quot;Thanks fo…</td><td>null</td><td>&quot;J.J. Plea…</td><td>&quot;Hi Issac,…</td><td>null</td><td>&quot;Cory, it …</td><td>null</td><td>&quot;Vic, I ha…</td><td>&quot;Original …</td></tr><tr><td>&quot;byerokAGK…</td><td>3</td><td>3</td><td>2</td><td>3</td><td>2</td><td>3</td><td>3</td><td>null</td><td>null</td><td>&quot;JJ Paxton…</td><td>&quot;J.J. We w…</td><td>null</td><td>&quot;Alex, I w…</td><td>null</td><td>&quot;Shea. I w…</td><td>&quot;Jennifer,…</td><td>null</td><td>&quot;J.J. Paxt…</td><td>&quot;Issac. Iw…</td><td>null</td><td>&quot;Paul, Tha…</td><td>null</td><td>&quot;Vic , Bef…</td><td>&quot;Original …</td></tr><tr><td>&quot;IsSGdpsEi…</td><td>3</td><td>3</td><td>4</td><td>2</td><td>2</td><td>3</td><td>3</td><td>&quot;Attached …</td><td>null</td><td>&quot;J.J. I wo…</td><td>null</td><td>null</td><td>&quot;Norman Th…</td><td>null</td><td>null</td><td>&quot;Jennifer …</td><td>null</td><td>&quot;Great job…</td><td>null</td><td>null</td><td>null</td><td>null</td><td>&quot;Theft of …</td><td>null</td></tr><tr><td>&quot;JfqaCnyZh…</td><td>3</td><td>3</td><td>3</td><td>3</td><td>4</td><td>2</td><td>5</td><td>null</td><td>&quot;Hi Tracy,…</td><td>null</td><td>null</td><td>&quot;Hi Taylor…</td><td>null</td><td>&quot;Hi Haley,…</td><td>null</td><td>null</td><td>&quot;Hi Haley,…</td><td>null</td><td>null</td><td>&quot;Hi Taylor…</td><td>null</td><td>&quot;Hi Taylor…</td><td>&quot;Hi Liang,…</td><td>&quot;Hi, Pleas…</td></tr><tr><td>&quot;HVIUbYhQz…</td><td>3</td><td>3</td><td>2</td><td>3</td><td>3</td><td>2</td><td>3</td><td>null</td><td>null</td><td>null</td><td>null</td><td>null</td><td>null</td><td>null</td><td>&quot;Shea, Ple…</td><td>null</td><td>null</td><td>&quot;Hello J.J…</td><td>&quot;Hi Isaac,…</td><td>null</td><td>&quot;Hi Jamie,…</td><td>null</td><td>&quot;Vic, Plea…</td><td>&quot;Please se…</td></tr><tr><td>&quot;sLUyYUVtJ…</td><td>3</td><td>3</td><td>2</td><td>2</td><td>3</td><td>3</td><td>3</td><td>null</td><td>null</td><td>&quot;J.J., Tha…</td><td>&quot;J.J. I ap…</td><td>null</td><td>&quot;Jamie, I …</td><td>null</td><td>&quot;Shea, My …</td><td>null</td><td>null</td><td>&quot;J.J. I su…</td><td>&quot;Isaac, I …</td><td>null</td><td>&quot;Jamie, Pl…</td><td>null</td><td>&quot;Vic, Than…</td><td>&quot;1.No I di…</td></tr><tr><td>&quot;ONafYDQjQ…</td><td>3</td><td>3</td><td>2</td><td>3</td><td>3</td><td>3</td><td>4</td><td>null</td><td>&quot;Hi Tracy …</td><td>null</td><td>null</td><td>&quot;Taylor yo…</td><td>&quot;Hi Alex i…</td><td>&quot;Hi Kim Pl…</td><td>null</td><td>null</td><td>&quot;Hi Hayley…</td><td>null</td><td>null</td><td>&quot;Hi Taylor…</td><td>null</td><td>&quot;Hi Taylor…</td><td>&quot;Hi Liang …</td><td>&quot;Major iss…</td></tr><tr><td>&hellip;</td><td>&hellip;</td><td>&hellip;</td><td>&hellip;</td><td>&hellip;</td><td>&hellip;</td><td>&hellip;</td><td>&hellip;</td><td>&hellip;</td><td>&hellip;</td><td>&hellip;</td><td>&hellip;</td><td>&hellip;</td><td>&hellip;</td><td>&hellip;</td><td>&hellip;</td><td>&hellip;</td><td>&hellip;</td><td>&hellip;</td><td>&hellip;</td><td>&hellip;</td><td>&hellip;</td><td>&hellip;</td><td>&hellip;</td><td>&hellip;</td></tr><tr><td>&quot;ZCJmYAymd…</td><td>3</td><td>2</td><td>3</td><td>3</td><td>3</td><td>null</td><td>3</td><td>null</td><td>&quot;Hi TracyA…</td><td>null</td><td>null</td><td>null</td><td>&quot;Hi AlexTh…</td><td>null</td><td>null</td><td>null</td><td>null</td><td>null</td><td>null</td><td>null</td><td>null</td><td>&quot;HI Taylor…</td><td>null</td><td>null</td></tr><tr><td>&quot;ktZaLhgBf…</td><td>3</td><td>4</td><td>4</td><td>4</td><td>4</td><td>4</td><td>7</td><td>null</td><td>&quot;Hello Tra…</td><td>null</td><td>null</td><td>null</td><td>&quot;Greetings…</td><td>null</td><td>null</td><td>null</td><td>null</td><td>null</td><td>null</td><td>null</td><td>null</td><td>&quot;Taylor, I…</td><td>null</td><td>null</td></tr><tr><td>&quot;uKLJDwaCr…</td><td>3</td><td>3</td><td>2</td><td>2</td><td>3</td><td>3</td><td>4</td><td>null</td><td>&quot;Hi Tracy,…</td><td>null</td><td>null</td><td>null</td><td>&quot;Alex,Hope…</td><td>null</td><td>null</td><td>null</td><td>null</td><td>null</td><td>null</td><td>null</td><td>null</td><td>&quot;Taylor,Ho…</td><td>null</td><td>null</td></tr><tr><td>&quot;MuhXtbuOW…</td><td>2</td><td>2</td><td>3</td><td>3</td><td>3</td><td>3</td><td>3</td><td>null</td><td>&quot;Hi Tracy,…</td><td>null</td><td>null</td><td>null</td><td>&quot;Thank you…</td><td>null</td><td>null</td><td>null</td><td>null</td><td>null</td><td>null</td><td>null</td><td>null</td><td>&quot;Hi Taylor…</td><td>null</td><td>null</td></tr><tr><td>&quot;cGGpQkIqv…</td><td>2</td><td>2</td><td>3</td><td>3</td><td>3</td><td>4</td><td>2</td><td>null</td><td>&quot;Dear Trac…</td><td>null</td><td>null</td><td>null</td><td>&quot;Dear Norm…</td><td>null</td><td>null</td><td>null</td><td>null</td><td>null</td><td>null</td><td>null</td><td>null</td><td>&quot;Dear Tayl…</td><td>&quot;,&quot;</td><td>null</td></tr><tr><td>&quot;IMOKQnPYd…</td><td>4</td><td>3</td><td>3</td><td>4</td><td>3</td><td>3</td><td>6</td><td>null</td><td>&quot;Dear Trac…</td><td>null</td><td>null</td><td>null</td><td>&quot;Hi Taylor…</td><td>null</td><td>null</td><td>null</td><td>null</td><td>null</td><td>null</td><td>null</td><td>null</td><td>&quot;Hi Taylor…</td><td>&quot;,&quot;</td><td>null</td></tr><tr><td>&quot;DMdpTWPss…</td><td>4</td><td>3</td><td>3</td><td>3</td><td>3</td><td>4</td><td>6</td><td>null</td><td>&quot;Dear Trac…</td><td>null</td><td>null</td><td>null</td><td>&quot;Dear Norm…</td><td>null</td><td>null</td><td>null</td><td>null</td><td>null</td><td>null</td><td>null</td><td>null</td><td>&quot;HI Taylor…</td><td>null</td><td>null</td></tr><tr><td>&quot;XmFXbwOnh…</td><td>2</td><td>2</td><td>2</td><td>3</td><td>3</td><td>2</td><td>2</td><td>null</td><td>&quot;Dear Trac…</td><td>null</td><td>null</td><td>null</td><td>&quot;Hi Alex,F…</td><td>null</td><td>null</td><td>null</td><td>null</td><td>null</td><td>null</td><td>null</td><td>null</td><td>&quot;Taylor,Pl…</td><td>null</td><td>null</td></tr><tr><td>&quot;IpqihBAIr…</td><td>4</td><td>4</td><td>3</td><td>4</td><td>4</td><td>4</td><td>6</td><td>null</td><td>&quot;Hi Tracy …</td><td>null</td><td>null</td><td>null</td><td>&quot;Hi Alex -…</td><td>null</td><td>null</td><td>null</td><td>null</td><td>null</td><td>null</td><td>null</td><td>null</td><td>&quot;Hi Taylor…</td><td>&quot;,&quot;</td><td>null</td></tr><tr><td>&quot;uDUdxHafr…</td><td>3</td><td>3</td><td>2</td><td>3</td><td>2</td><td>2</td><td>2</td><td>null</td><td>&quot;Dear Trac…</td><td>null</td><td>null</td><td>null</td><td>&quot;Dear Alex…</td><td>null</td><td>null</td><td>null</td><td>null</td><td>null</td><td>null</td><td>null</td><td>null</td><td>&quot;Dear Tayl…</td><td>null</td><td>null</td></tr><tr><td>&quot;RWDsTwgzA…</td><td>4</td><td>3</td><td>3</td><td>4</td><td>3</td><td>4</td><td>6</td><td>null</td><td>&quot;Hi Tracy,…</td><td>null</td><td>null</td><td>null</td><td>&quot;Dear Alex…</td><td>null</td><td>null</td><td>null</td><td>null</td><td>null</td><td>null</td><td>null</td><td>null</td><td>&quot;Hi Taylor…</td><td>null</td><td>null</td></tr><tr><td>&quot;YtxxkKWAb…</td><td>4</td><td>3</td><td>3</td><td>4</td><td>3</td><td>3</td><td>5</td><td>null</td><td>&quot;Tracey,Th…</td><td>null</td><td>null</td><td>null</td><td>&quot;Norman,Th…</td><td>null</td><td>null</td><td>null</td><td>null</td><td>null</td><td>null</td><td>null</td><td>null</td><td>&quot;Slade,Tha…</td><td>null</td><td>null</td></tr></tbody></table></div>"
            ],
            "text/plain": [
              "shape: (1466, 25)\n",
              "┌────────────┬────────────┬────────────┬────────────┬───┬────────────┬────────────┬────────────┬────────────┐\n",
              "│ response_i ┆ rating_cho ┆ rating_com ┆ rating_gat ┆ … ┆ text_exerc ┆ text_exerc ┆ text_exerc ┆ text_exerc │\n",
              "│ …          ┆ …          ┆ …          ┆ …          ┆   ┆ …          ┆ …          ┆ …          ┆ …          │\n",
              "│ ---        ┆ ---        ┆ ---        ┆ ---        ┆   ┆ ---        ┆ ---        ┆ ---        ┆ ---        │\n",
              "│ str        ┆ i64        ┆ i64        ┆ i64        ┆   ┆ str        ┆ str        ┆ str        ┆ str        │\n",
              "╞════════════╪════════════╪════════════╪════════════╪═══╪════════════╪════════════╪════════════╪════════════╡\n",
              "│ NlmLRJzhnN ┆ 2          ┆ 2          ┆ 2          ┆ … ┆ null       ┆ Taylor,    ┆ Kim,       ┆ See below  │\n",
              "│ …          ┆            ┆            ┆            ┆   ┆            ┆ Pl…        ┆ Pleas…     ┆ …          │\n",
              "│ mQoZghwfMU ┆ 4          ┆ 3          ┆ 4          ┆ … ┆ null       ┆ Hi         ┆ Liang,     ┆ Original   │\n",
              "│ …          ┆            ┆            ┆            ┆   ┆            ┆ Taylor,…   ┆ Sto…       ┆ M…         │\n",
              "│ FjIOCrTtDg ┆ 2          ┆ 2          ┆ 2          ┆ … ┆ Thank You  ┆ null       ┆ Wait ,     ┆ No, Focus  │\n",
              "│ …          ┆            ┆            ┆            ┆   ┆ …          ┆            ┆ Let…       ┆ …          │\n",
              "│ CQGLdZnCHc ┆ 3          ┆ 3          ┆ 3          ┆ … ┆ Hi Bern I  ┆ null       ┆ H Daisha   ┆ null       │\n",
              "│ …          ┆            ┆            ┆            ┆   ┆ …          ┆            ┆ y…         ┆            │\n",
              "│ …          ┆ …          ┆ …          ┆ …          ┆ … ┆ …          ┆ …          ┆ …          ┆ …          │\n",
              "│ IpqihBAIrd ┆ 4          ┆ 4          ┆ 3          ┆ … ┆ null       ┆ Hi Taylor  ┆ ,          ┆ null       │\n",
              "│ …          ┆            ┆            ┆            ┆   ┆            ┆ …          ┆            ┆            │\n",
              "│ uDUdxHafrc ┆ 3          ┆ 3          ┆ 2          ┆ … ┆ null       ┆ Dear       ┆ null       ┆ null       │\n",
              "│ …          ┆            ┆            ┆            ┆   ┆            ┆ Taylo…     ┆            ┆            │\n",
              "│ RWDsTwgzAf ┆ 4          ┆ 3          ┆ 3          ┆ … ┆ null       ┆ Hi         ┆ null       ┆ null       │\n",
              "│ …          ┆            ┆            ┆            ┆   ┆            ┆ Taylor,…   ┆            ┆            │\n",
              "│ YtxxkKWAbg ┆ 4          ┆ 3          ┆ 3          ┆ … ┆ null       ┆ Slade,Than ┆ null       ┆ null       │\n",
              "│ …          ┆            ┆            ┆            ┆   ┆            ┆ …          ┆            ┆            │\n",
              "└────────────┴────────────┴────────────┴────────────┴───┴────────────┴────────────┴────────────┴────────────┘"
            ]
          },
          "execution_count": 7,
          "metadata": {},
          "output_type": "execute_result"
        }
      ],
      "source": [
        "df_train_raw"
      ]
    },
    {
      "cell_type": "code",
      "execution_count": 8,
      "metadata": {
        "colab": {
          "base_uri": "https://localhost:8080/",
          "height": 546
        },
        "id": "gBNcGiX7GvPQ",
        "outputId": "1d05c1a0-27a2-491d-b9e9-72290186981b"
      },
      "outputs": [
        {
          "data": {
            "text/html": [
              "<div><style>\n",
              ".dataframe > thead > tr > th,\n",
              ".dataframe > tbody > tr > td {\n",
              "  text-align: right;\n",
              "}\n",
              "</style>\n",
              "<small>shape: (7, 26)</small><table border=\"1\" class=\"dataframe\"><thead><tr><th>describe</th><th>response_id</th><th>rating_chooses_appropriate_action</th><th>rating_commits_to_action</th><th>rating_gathers_information</th><th>rating_identifies_issues_opportunities</th><th>rating_interprets_information</th><th>rating_involves_others</th><th>rating_decision_making_final_score</th><th>text_exercise_4</th><th>text_exercise_5</th><th>text_exercise_6</th><th>text_exercise_7</th><th>text_exercise_8</th><th>text_exercise_9</th><th>text_exercise_10</th><th>text_exercise_11</th><th>text_exercise_12</th><th>text_exercise_13</th><th>text_exercise_14</th><th>text_exercise_15</th><th>text_exercise_16</th><th>text_exercise_17</th><th>text_exercise_18</th><th>text_exercise_19</th><th>text_exercise_final</th></tr><tr><td>str</td><td>str</td><td>f64</td><td>f64</td><td>f64</td><td>f64</td><td>f64</td><td>f64</td><td>f64</td><td>str</td><td>str</td><td>str</td><td>str</td><td>str</td><td>str</td><td>str</td><td>str</td><td>str</td><td>str</td><td>str</td><td>str</td><td>str</td><td>str</td><td>str</td><td>str</td><td>str</td></tr></thead><tbody><tr><td>&quot;count&quot;</td><td>&quot;1466&quot;</td><td>1466.0</td><td>1466.0</td><td>1466.0</td><td>1466.0</td><td>1466.0</td><td>1466.0</td><td>1466.0</td><td>&quot;1466&quot;</td><td>&quot;1466&quot;</td><td>&quot;1466&quot;</td><td>&quot;1466&quot;</td><td>&quot;1466&quot;</td><td>&quot;1466&quot;</td><td>&quot;1466&quot;</td><td>&quot;1466&quot;</td><td>&quot;1466&quot;</td><td>&quot;1466&quot;</td><td>&quot;1466&quot;</td><td>&quot;1466&quot;</td><td>&quot;1466&quot;</td><td>&quot;1466&quot;</td><td>&quot;1466&quot;</td><td>&quot;1466&quot;</td><td>&quot;1466&quot;</td></tr><tr><td>&quot;null_coun…</td><td>&quot;0&quot;</td><td>80.0</td><td>0.0</td><td>0.0</td><td>80.0</td><td>0.0</td><td>85.0</td><td>0.0</td><td>&quot;1281&quot;</td><td>&quot;1230&quot;</td><td>&quot;424&quot;</td><td>&quot;454&quot;</td><td>&quot;1275&quot;</td><td>&quot;321&quot;</td><td>&quot;1243&quot;</td><td>&quot;375&quot;</td><td>&quot;470&quot;</td><td>&quot;1255&quot;</td><td>&quot;381&quot;</td><td>&quot;373&quot;</td><td>&quot;1269&quot;</td><td>&quot;589&quot;</td><td>&quot;1227&quot;</td><td>&quot;113&quot;</td><td>&quot;315&quot;</td></tr><tr><td>&quot;mean&quot;</td><td>null</td><td>2.762626</td><td>3.092769</td><td>2.703274</td><td>2.668831</td><td>2.465211</td><td>2.80449</td><td>3.22101</td><td>null</td><td>null</td><td>null</td><td>null</td><td>null</td><td>null</td><td>null</td><td>null</td><td>null</td><td>null</td><td>null</td><td>null</td><td>null</td><td>null</td><td>null</td><td>null</td><td>null</td></tr><tr><td>&quot;std&quot;</td><td>null</td><td>0.608546</td><td>0.611261</td><td>0.648403</td><td>0.564276</td><td>0.619769</td><td>0.673092</td><td>1.308516</td><td>null</td><td>null</td><td>null</td><td>null</td><td>null</td><td>null</td><td>null</td><td>null</td><td>null</td><td>null</td><td>null</td><td>null</td><td>null</td><td>null</td><td>null</td><td>null</td><td>null</td></tr><tr><td>&quot;min&quot;</td><td>&quot;AANbbjXjO…</td><td>1.0</td><td>1.0</td><td>1.0</td><td>1.0</td><td>2.0</td><td>2.0</td><td>1.0</td><td>&quot;#NAME?&quot;</td><td>&quot;, ,&quot;</td><td>&quot;#NAME?&quot;</td><td>&quot;#NAME?&quot;</td><td>&quot;, ,&quot;</td><td>&quot;#NAME?&quot;</td><td>&quot;, ,&quot;</td><td>&quot;$0Hi Shea…</td><td>&quot;$0Hi Jenn…</td><td>&quot;, ,&quot;</td><td>&quot;$0Hi JJ,$…</td><td>&quot;$0Hi Isaa…</td><td>&quot;, ,&quot;</td><td>&quot;$0$0$0Hi …</td><td>&quot;, ,&quot;</td><td>&quot;#NAME?&quot;</td><td>&quot;#1, I tri…</td></tr><tr><td>&quot;max&quot;</td><td>&quot;zyCojMdXz…</td><td>4.0</td><td>4.0</td><td>4.0</td><td>4.0</td><td>4.0</td><td>4.0</td><td>7.0</td><td>&quot;ok tell t…</td><td>&quot;Well that…</td><td>&quot;will look…</td><td>&quot;we will c…</td><td>&quot;taylor, t…</td><td>&quot;will take…</td><td>&quot;Yes, they…</td><td>&quot;we can go…</td><td>&quot;yes it se…</td><td>&quot;Tracy Hur…</td><td>&quot;yesyou ca…</td><td>&quot;yes you c…</td><td>&quot;Yaylor, K…</td><td>&quot;while I a…</td><td>&quot;While i a…</td><td>&quot;yes thank…</td><td>&quot;yes I did…</td></tr><tr><td>&quot;median&quot;</td><td>null</td><td>3.0</td><td>3.0</td><td>3.0</td><td>3.0</td><td>2.0</td><td>3.0</td><td>3.0</td><td>null</td><td>null</td><td>null</td><td>null</td><td>null</td><td>null</td><td>null</td><td>null</td><td>null</td><td>null</td><td>null</td><td>null</td><td>null</td><td>null</td><td>null</td><td>null</td><td>null</td></tr></tbody></table></div>"
            ],
            "text/plain": [
              "shape: (7, 26)\n",
              "┌───┬────────────┬────────────┬────────────┬───┬────────────┬────────────┬────────────┬────────────┐\n",
              "│ d ┆ response_i ┆ rating_cho ┆ rating_com ┆ … ┆ text_exerc ┆ text_exerc ┆ text_exerc ┆ text_exerc │\n",
              "│ e ┆ …          ┆ …          ┆ …          ┆   ┆ …          ┆ …          ┆ …          ┆ …          │\n",
              "│ s ┆ ---        ┆ ---        ┆ ---        ┆   ┆ ---        ┆ ---        ┆ ---        ┆ ---        │\n",
              "│ c ┆ str        ┆ f64        ┆ f64        ┆   ┆ str        ┆ str        ┆ str        ┆ str        │\n",
              "│ r ┆            ┆            ┆            ┆   ┆            ┆            ┆            ┆            │\n",
              "│ i ┆            ┆            ┆            ┆   ┆            ┆            ┆            ┆            │\n",
              "│ b ┆            ┆            ┆            ┆   ┆            ┆            ┆            ┆            │\n",
              "│ e ┆            ┆            ┆            ┆   ┆            ┆            ┆            ┆            │\n",
              "│ - ┆            ┆            ┆            ┆   ┆            ┆            ┆            ┆            │\n",
              "│ - ┆            ┆            ┆            ┆   ┆            ┆            ┆            ┆            │\n",
              "│ - ┆            ┆            ┆            ┆   ┆            ┆            ┆            ┆            │\n",
              "│ s ┆            ┆            ┆            ┆   ┆            ┆            ┆            ┆            │\n",
              "│ t ┆            ┆            ┆            ┆   ┆            ┆            ┆            ┆            │\n",
              "│ r ┆            ┆            ┆            ┆   ┆            ┆            ┆            ┆            │\n",
              "╞═══╪════════════╪════════════╪════════════╪═══╪════════════╪════════════╪════════════╪════════════╡\n",
              "│ c ┆ 1466       ┆ 1466.0     ┆ 1466.0     ┆ … ┆ 1466       ┆ 1466       ┆ 1466       ┆ 1466       │\n",
              "│ o ┆            ┆            ┆            ┆   ┆            ┆            ┆            ┆            │\n",
              "│ u ┆            ┆            ┆            ┆   ┆            ┆            ┆            ┆            │\n",
              "│ n ┆            ┆            ┆            ┆   ┆            ┆            ┆            ┆            │\n",
              "│ t ┆            ┆            ┆            ┆   ┆            ┆            ┆            ┆            │\n",
              "│ n ┆ 0          ┆ 80.0       ┆ 0.0        ┆ … ┆ 589        ┆ 1227       ┆ 113        ┆ 315        │\n",
              "│ u ┆            ┆            ┆            ┆   ┆            ┆            ┆            ┆            │\n",
              "│ l ┆            ┆            ┆            ┆   ┆            ┆            ┆            ┆            │\n",
              "│ l ┆            ┆            ┆            ┆   ┆            ┆            ┆            ┆            │\n",
              "│ _ ┆            ┆            ┆            ┆   ┆            ┆            ┆            ┆            │\n",
              "│ c ┆            ┆            ┆            ┆   ┆            ┆            ┆            ┆            │\n",
              "│ o ┆            ┆            ┆            ┆   ┆            ┆            ┆            ┆            │\n",
              "│ u ┆            ┆            ┆            ┆   ┆            ┆            ┆            ┆            │\n",
              "│ n ┆            ┆            ┆            ┆   ┆            ┆            ┆            ┆            │\n",
              "│ t ┆            ┆            ┆            ┆   ┆            ┆            ┆            ┆            │\n",
              "│ m ┆ null       ┆ 2.762626   ┆ 3.092769   ┆ … ┆ null       ┆ null       ┆ null       ┆ null       │\n",
              "│ e ┆            ┆            ┆            ┆   ┆            ┆            ┆            ┆            │\n",
              "│ a ┆            ┆            ┆            ┆   ┆            ┆            ┆            ┆            │\n",
              "│ n ┆            ┆            ┆            ┆   ┆            ┆            ┆            ┆            │\n",
              "│ s ┆ null       ┆ 0.608546   ┆ 0.611261   ┆ … ┆ null       ┆ null       ┆ null       ┆ null       │\n",
              "│ t ┆            ┆            ┆            ┆   ┆            ┆            ┆            ┆            │\n",
              "│ d ┆            ┆            ┆            ┆   ┆            ┆            ┆            ┆            │\n",
              "│ m ┆ AANbbjXjOF ┆ 1.0        ┆ 1.0        ┆ … ┆ $0$0$0Hi   ┆ , ,        ┆ #NAME?     ┆ #1, I      │\n",
              "│ i ┆ …          ┆            ┆            ┆   ┆ J…         ┆            ┆            ┆ trie…      │\n",
              "│ n ┆            ┆            ┆            ┆   ┆            ┆            ┆            ┆            │\n",
              "│ m ┆ zyCojMdXzD ┆ 4.0        ┆ 4.0        ┆ … ┆ while I    ┆ While i    ┆ yes thank  ┆ yes I      │\n",
              "│ a ┆ …          ┆            ┆            ┆   ┆ ag…        ┆ ag…        ┆ …          ┆ did.…      │\n",
              "│ x ┆            ┆            ┆            ┆   ┆            ┆            ┆            ┆            │\n",
              "│ m ┆ null       ┆ 3.0        ┆ 3.0        ┆ … ┆ null       ┆ null       ┆ null       ┆ null       │\n",
              "│ e ┆            ┆            ┆            ┆   ┆            ┆            ┆            ┆            │\n",
              "│ d ┆            ┆            ┆            ┆   ┆            ┆            ┆            ┆            │\n",
              "│ i ┆            ┆            ┆            ┆   ┆            ┆            ┆            ┆            │\n",
              "│ a ┆            ┆            ┆            ┆   ┆            ┆            ┆            ┆            │\n",
              "│ n ┆            ┆            ┆            ┆   ┆            ┆            ┆            ┆            │\n",
              "└───┴────────────┴────────────┴────────────┴───┴────────────┴────────────┴────────────┴────────────┘"
            ]
          },
          "execution_count": 8,
          "metadata": {},
          "output_type": "execute_result"
        }
      ],
      "source": [
        "df_train_raw.describe()"
      ]
    },
    {
      "cell_type": "code",
      "execution_count": 9,
      "metadata": {
        "colab": {
          "base_uri": "https://localhost:8080/",
          "height": 591
        },
        "id": "hPu3cLJoL9Yp",
        "outputId": "e5f8184d-09c0-42c0-b5b1-18f3f8e64bb3"
      },
      "outputs": [
        {
          "data": {
            "text/plain": [
              "'Original Message----- From: Assessment Administrator Sent: 4/5/2016 2:20 PM To: Stevens, Cary Cc: Subject : RESPONSE REQUIRED: About your day This e-mail contains some final questions for you. Your answers to these questions will help in the evaluation of your performance by providing a better understanding of your approach and rationale. It is important that you provide complete and thorough answers to the questions below.  For your reference, a list of messages you received today is shown after question 4.  1. Please list the major categories of issues or problems facing Customer Service Team 5 of Soundproof Solutions. Why is each an issue or a problem? 1. the lack of communication between installation and service representation. It seems no one really knowswhat is happening in the field. 2. the lack of a consistent approach to the customer interface. All of the people that work for this company should know what isthe message for customers and the chain of decision making with dealing with them. 3 The lack of corporate culturethat drives home the point of integrity in the workplace and respectfor others 2. What were the three most important messages you considered the highest priorities to handle? Why? 1 Customer relations starts with a consistent, fair message to the customer. Customers are wary of any institution that does not do what it says and changes what it says. The message should be the same right to the person installing the product. 2 Communication. The communication channels and the ability of the company to knowwhat activity is beingdone outside is lacking. This has been causingdifficulty in billing and scheduling, and customer relations. 3 Our leaders are notproviding strong guidance to ourinstallers and representatives for the soft skills. The technicalknow how is there and is strived for and rewarded, however thelack of professionalism in dealing with each other and customers is causing problems. 3. List specific examples (if any) of instances where you detected a relationship between two of the messages you received in your inbox. For example, when you decided how respond to one message, did you consider information provided not only in that message, but in other message(s)?Yes for promotions, for the memorial hospital issue, for the superior bottling issue and the Cyd Atkins discussion  4. Describe what additional information you would have liked to have in order to have a better or clearer understanding of the messages and challenges presented to you today. Actual notes from the previous leader as opposed to the spreadsheet. the employee competencies.  The messages you received today included:  Weedler Contracting: A customer is suspected of abusing the companys replacement policies  Eluto Caplanu: Someone has placed an insulting message on Elutos lunch  Effective mentoring pays dividends: Taylor mentored Jerry Winters and presents the results  Customer satisfaction insights: Tracy Hurdle reports research on customer satisfaction  Promotion: There is new room in the budget to promote a part-time employee to full-time  Professional conduct: A salesperson complains that representatives behave unprofessionally  Theft of company-confidential information: A security guard suspects an associate of improper activity  Bench strength: Representatives must be signed up for training per company policy  quietPAPER ONE: A new product is faulty and will start to produce complaints in two weeks  Paperless office: A plan is presented to replace paper files  Installation in Sales: Sales requests scheduling soundproofing for their area, and a meeting with a customer  Feedback process: Kim proposes a way to efficiently deal with customer feedback  Fletcher Systems: An unhappy customer demands reinstallation and a meeting'"
            ]
          },
          "execution_count": 9,
          "metadata": {},
          "output_type": "execute_result"
        }
      ],
      "source": [
        "df_train_raw.select(pl.col(\"text_exercise_final\")).filter(pl.col(\"text_exercise_final\").is_not_null())[1].item()"
      ]
    },
    {
      "cell_type": "code",
      "execution_count": 10,
      "metadata": {
        "colab": {
          "base_uri": "https://localhost:8080/"
        },
        "id": "jS0Ri48jPbjh",
        "outputId": "ebaae3d2-20a2-47b6-95e1-03ec5b8a0325"
      },
      "outputs": [
        {
          "data": {
            "text/plain": [
              "['response_id',\n",
              " 'rating_chooses_appropriate_action',\n",
              " 'rating_commits_to_action',\n",
              " 'rating_gathers_information',\n",
              " 'rating_identifies_issues_opportunities',\n",
              " 'rating_interprets_information',\n",
              " 'rating_involves_others',\n",
              " 'rating_decision_making_final_score',\n",
              " 'text_exercise_4',\n",
              " 'text_exercise_5',\n",
              " 'text_exercise_6',\n",
              " 'text_exercise_7',\n",
              " 'text_exercise_8',\n",
              " 'text_exercise_9',\n",
              " 'text_exercise_10',\n",
              " 'text_exercise_11',\n",
              " 'text_exercise_12',\n",
              " 'text_exercise_13',\n",
              " 'text_exercise_14',\n",
              " 'text_exercise_15',\n",
              " 'text_exercise_16',\n",
              " 'text_exercise_17',\n",
              " 'text_exercise_18',\n",
              " 'text_exercise_19',\n",
              " 'text_exercise_final']"
            ]
          },
          "execution_count": 10,
          "metadata": {},
          "output_type": "execute_result"
        }
      ],
      "source": [
        "df_train_raw.columns"
      ]
    },
    {
      "cell_type": "code",
      "execution_count": 11,
      "metadata": {
        "id": "1CfDXhUNPSbt"
      },
      "outputs": [],
      "source": [
        "df_train_scores = df_train_raw.select(\n",
        "    'rating_chooses_appropriate_action',\n",
        "    'rating_commits_to_action',\n",
        "    'rating_gathers_information',\n",
        "    'rating_identifies_issues_opportunities',\n",
        "    'rating_interprets_information',\n",
        "    'rating_involves_others',\n",
        "    'rating_decision_making_final_score'\n",
        ")\n",
        "df_train_text = df_train_raw.select(\n",
        "    'text_exercise_4',\n",
        "    'text_exercise_5',\n",
        "    'text_exercise_6',\n",
        "    'text_exercise_7',\n",
        "    'text_exercise_8',\n",
        "    'text_exercise_9',\n",
        "    'text_exercise_10',\n",
        "    'text_exercise_11',\n",
        "    'text_exercise_12',\n",
        "    'text_exercise_13',\n",
        "    'text_exercise_14',\n",
        "    'text_exercise_15',\n",
        "    'text_exercise_16',\n",
        "    'text_exercise_17',\n",
        "    'text_exercise_18',\n",
        "    'text_exercise_19'\n",
        ")"
      ]
    },
    {
      "cell_type": "code",
      "execution_count": 12,
      "metadata": {},
      "outputs": [
        {
          "data": {
            "text/plain": [
              "polars.config.Config"
            ]
          },
          "execution_count": 12,
          "metadata": {},
          "output_type": "execute_result"
        }
      ],
      "source": [
        "pl.Config.set_fmt_str_lengths(100)"
      ]
    },
    {
      "cell_type": "code",
      "execution_count": 13,
      "metadata": {
        "id": "_71Ryh5nPpDn"
      },
      "outputs": [],
      "source": [
        "df_train_text_melt = df_train_text.melt().filter(pl.col('value').is_not_null())"
      ]
    },
    {
      "cell_type": "code",
      "execution_count": 14,
      "metadata": {
        "colab": {
          "base_uri": "https://localhost:8080/",
          "height": 882
        },
        "id": "CPHKHotWUFny",
        "outputId": "84e2e574-6a09-4e6e-ecfa-18c2aee481b6"
      },
      "outputs": [
        {
          "data": {
            "text/html": [
              "<div><style>\n",
              ".dataframe > thead > tr > th,\n",
              ".dataframe > tbody > tr > td {\n",
              "  text-align: right;\n",
              "}\n",
              "</style>\n",
              "<small>shape: (11176, 2)</small><table border=\"1\" class=\"dataframe\"><thead><tr><th>variable</th><th>value</th></tr><tr><td>str</td><td>str</td></tr></thead><tbody><tr><td>&quot;text_exercise_4&quot;</td><td>&quot;Attached you will find notes from an exchange between two associates. Being new here, I do not know…</td></tr><tr><td>&quot;text_exercise_4&quot;</td><td>&quot;I have called both of you to my office today because I have concern about something I witnessed ear…</td></tr><tr><td>&quot;text_exercise_4&quot;</td><td>&quot;Cory,  Please see attachment for the interaction that happened earlier today. I will not be able to…</td></tr><tr><td>&quot;text_exercise_4&quot;</td><td>&quot;I notice this morning when i was walkingthrough the plant. that an interaction was going on. I will…</td></tr><tr><td>&quot;text_exercise_4&quot;</td><td>&quot;Hey I had a talk with Larry and want to see why he&#x27;s is upset about the new SEQUENCE system. He exp…</td></tr><tr><td>&quot;text_exercise_4&quot;</td><td>&quot;I will be meeting briefly with Emily Carson and Larry Hodges later today seperately and then togeth…</td></tr><tr><td>&quot;text_exercise_4&quot;</td><td>&quot;Cory Manning, In our earlier discussion whli we were walking I promised to followup on Larry Hodges…</td></tr><tr><td>&quot;text_exercise_4&quot;</td><td>&quot;My plan would be to talk to both individuals, seperately, to hear both opinions and try to determin…</td></tr><tr><td>&quot;text_exercise_4&quot;</td><td>&quot;Hi JJ, From the note below, I saw a disruption inbetween Larry Hodges and Emily Carson.I would reco…</td></tr><tr><td>&quot;text_exercise_4&quot;</td><td>&quot;In this situation it may be apporpriate to get Larry and Emily together to work out their issues an…</td></tr><tr><td>&quot;text_exercise_4&quot;</td><td>&quot;Attached please find the transcript i witnessed earlier today. ihave addressed the subject matter w…</td></tr><tr><td>&quot;text_exercise_4&quot;</td><td>&quot;I have addressed the issue with Larry and place the documentation in his work file. Hopefully this …</td></tr><tr><td>&hellip;</td><td>&hellip;</td></tr><tr><td>&quot;text_exercise_19&quot;</td><td>&quot;,&quot;</td></tr><tr><td>&quot;text_exercise_19&quot;</td><td>&quot;VicPlease hold off on any of this until we have approval from my supervision and HR.I do not approv…</td></tr><tr><td>&quot;text_exercise_19&quot;</td><td>&quot;Vic,I think you have over stepped some boundaries here. I would like for us to speak with an HR rep…</td></tr><tr><td>&quot;text_exercise_19&quot;</td><td>&quot;Vic I attached Karen to this email. I want to make sure we cover all basis before we react to harsh…</td></tr><tr><td>&quot;text_exercise_19&quot;</td><td>&quot;Vic,I had no idea. And now that you tell me this J.J did mention to me about a project he was worki…</td></tr><tr><td>&quot;text_exercise_19&quot;</td><td>&quot;Thankyou Vic for informing me. I would advise you to go ahead and escort him out now. I will take c…</td></tr><tr><td>&quot;text_exercise_19&quot;</td><td>&quot;Cory,Please see below and forward to the appropriate HR rep asap. I&#x27;m calling Vic to wait on HR bef…</td></tr><tr><td>&quot;text_exercise_19&quot;</td><td>&quot;Vic,Thank for sharing I have no issue with the terminationJamie&quot;</td></tr><tr><td>&quot;text_exercise_19&quot;</td><td>&quot;Hi Vic,Thanks for bringing this to my attention before making any action.This morning, I received a…</td></tr><tr><td>&quot;text_exercise_19&quot;</td><td>&quot;,&quot;</td></tr><tr><td>&quot;text_exercise_19&quot;</td><td>&quot;,&quot;</td></tr><tr><td>&quot;text_exercise_19&quot;</td><td>&quot;,&quot;</td></tr></tbody></table></div>"
            ],
            "text/plain": [
              "shape: (11176, 2)\n",
              "┌──────────────────┬───────────────────────────────────────────────────────────────────────────────┐\n",
              "│ variable         ┆ value                                                                         │\n",
              "│ ---              ┆ ---                                                                           │\n",
              "│ str              ┆ str                                                                           │\n",
              "╞══════════════════╪═══════════════════════════════════════════════════════════════════════════════╡\n",
              "│ text_exercise_4  ┆ Attached you will find notes from an exchange between two associates. Being   │\n",
              "│                  ┆ new here, I do not know …                                                     │\n",
              "│ text_exercise_4  ┆ I have called both of you to my office today because I have concern about     │\n",
              "│                  ┆ something I witnessed earl…                                                   │\n",
              "│ text_exercise_4  ┆ Cory,  Please see attachment for the interaction that happened earlier today. │\n",
              "│                  ┆ I will not be able to …                                                       │\n",
              "│ text_exercise_4  ┆ I notice this morning when i was walkingthrough the plant. that an            │\n",
              "│                  ┆ interaction was going on. I will …                                            │\n",
              "│ …                ┆ …                                                                             │\n",
              "│ text_exercise_19 ┆ Hi Vic,Thanks for bringing this to my attention before making any action.This │\n",
              "│                  ┆ morning, I received a …                                                       │\n",
              "│ text_exercise_19 ┆ ,                                                                             │\n",
              "│ text_exercise_19 ┆ ,                                                                             │\n",
              "│ text_exercise_19 ┆ ,                                                                             │\n",
              "└──────────────────┴───────────────────────────────────────────────────────────────────────────────┘"
            ]
          },
          "execution_count": 14,
          "metadata": {},
          "output_type": "execute_result"
        }
      ],
      "source": [
        "df_train_text_melt"
      ]
    },
    {
      "cell_type": "code",
      "execution_count": 15,
      "metadata": {
        "colab": {
          "base_uri": "https://localhost:8080/",
          "height": 474
        },
        "id": "zoIK-2d3UKm9",
        "outputId": "56d6303f-53d0-4103-a410-22bdeb37304f"
      },
      "outputs": [
        {
          "data": {
            "text/html": [
              "<div><style>\n",
              ".dataframe > thead > tr > th,\n",
              ".dataframe > tbody > tr > td {\n",
              "  text-align: right;\n",
              "}\n",
              "</style>\n",
              "<small>shape: (12, 2)</small><table border=\"1\" class=\"dataframe\"><thead><tr><th>variable</th><th>count</th></tr><tr><td>str</td><td>u32</td></tr></thead><tbody><tr><td>&quot;text_exercise_19&quot;</td><td>49</td></tr><tr><td>&quot;text_exercise_14&quot;</td><td>5</td></tr><tr><td>&quot;text_exercise_11&quot;</td><td>2</td></tr><tr><td>&quot;text_exercise_15&quot;</td><td>2</td></tr><tr><td>&quot;text_exercise_8&quot;</td><td>1</td></tr><tr><td>&quot;text_exercise_13&quot;</td><td>1</td></tr><tr><td>&quot;text_exercise_18&quot;</td><td>1</td></tr><tr><td>&quot;text_exercise_16&quot;</td><td>1</td></tr><tr><td>&quot;text_exercise_6&quot;</td><td>1</td></tr><tr><td>&quot;text_exercise_4&quot;</td><td>1</td></tr><tr><td>&quot;text_exercise_5&quot;</td><td>1</td></tr><tr><td>&quot;text_exercise_10&quot;</td><td>1</td></tr></tbody></table></div>"
            ],
            "text/plain": [
              "shape: (12, 2)\n",
              "┌──────────────────┬───────┐\n",
              "│ variable         ┆ count │\n",
              "│ ---              ┆ ---   │\n",
              "│ str              ┆ u32   │\n",
              "╞══════════════════╪═══════╡\n",
              "│ text_exercise_19 ┆ 49    │\n",
              "│ text_exercise_14 ┆ 5     │\n",
              "│ text_exercise_11 ┆ 2     │\n",
              "│ text_exercise_15 ┆ 2     │\n",
              "│ …                ┆ …     │\n",
              "│ text_exercise_6  ┆ 1     │\n",
              "│ text_exercise_4  ┆ 1     │\n",
              "│ text_exercise_5  ┆ 1     │\n",
              "│ text_exercise_10 ┆ 1     │\n",
              "└──────────────────┴───────┘"
            ]
          },
          "execution_count": 15,
          "metadata": {},
          "output_type": "execute_result"
        }
      ],
      "source": [
        "df_train_text_melt.filter(~pl.col('value').str.contains(r\"[a-zA-Z]\")).groupby(\"variable\").count().sort(\"count\", descending = True)"
      ]
    },
    {
      "cell_type": "code",
      "execution_count": 16,
      "metadata": {
        "id": "Vd-oNydtVs2J"
      },
      "outputs": [],
      "source": [
        "df_train_text_melt = df_train_text_melt.filter(pl.col('value').str.contains(r\"[a-zA-Z]\"))"
      ]
    },
    {
      "cell_type": "code",
      "execution_count": 17,
      "metadata": {},
      "outputs": [
        {
          "data": {
            "text/html": [
              "<div><style>\n",
              ".dataframe > thead > tr > th,\n",
              ".dataframe > tbody > tr > td {\n",
              "  text-align: right;\n",
              "}\n",
              "</style>\n",
              "<small>shape: (11110, 2)</small><table border=\"1\" class=\"dataframe\"><thead><tr><th>variable</th><th>value</th></tr><tr><td>str</td><td>str</td></tr></thead><tbody><tr><td>&quot;text_exercise_4&quot;</td><td>&quot;Attached you will find notes from an exchange between two associates. Being new here, I do not know…</td></tr><tr><td>&quot;text_exercise_4&quot;</td><td>&quot;I have called both of you to my office today because I have concern about something I witnessed ear…</td></tr><tr><td>&quot;text_exercise_4&quot;</td><td>&quot;Cory,  Please see attachment for the interaction that happened earlier today. I will not be able to…</td></tr><tr><td>&quot;text_exercise_4&quot;</td><td>&quot;I notice this morning when i was walkingthrough the plant. that an interaction was going on. I will…</td></tr><tr><td>&quot;text_exercise_4&quot;</td><td>&quot;Hey I had a talk with Larry and want to see why he&#x27;s is upset about the new SEQUENCE system. He exp…</td></tr><tr><td>&quot;text_exercise_4&quot;</td><td>&quot;I will be meeting briefly with Emily Carson and Larry Hodges later today seperately and then togeth…</td></tr><tr><td>&quot;text_exercise_4&quot;</td><td>&quot;Cory Manning, In our earlier discussion whli we were walking I promised to followup on Larry Hodges…</td></tr><tr><td>&quot;text_exercise_4&quot;</td><td>&quot;My plan would be to talk to both individuals, seperately, to hear both opinions and try to determin…</td></tr><tr><td>&quot;text_exercise_4&quot;</td><td>&quot;Hi JJ, From the note below, I saw a disruption inbetween Larry Hodges and Emily Carson.I would reco…</td></tr><tr><td>&quot;text_exercise_4&quot;</td><td>&quot;In this situation it may be apporpriate to get Larry and Emily together to work out their issues an…</td></tr><tr><td>&quot;text_exercise_4&quot;</td><td>&quot;Attached please find the transcript i witnessed earlier today. ihave addressed the subject matter w…</td></tr><tr><td>&quot;text_exercise_4&quot;</td><td>&quot;I have addressed the issue with Larry and place the documentation in his work file. Hopefully this …</td></tr><tr><td>&hellip;</td><td>&hellip;</td></tr><tr><td>&quot;text_exercise_19&quot;</td><td>&quot;Hi Vic,Thank you for this information. I will definitely do a investigations and go through all the…</td></tr><tr><td>&quot;text_exercise_19&quot;</td><td>&quot;Cory and Karen,Please assist Vic in ensuring we have all the necessary paperwork prior to escorting…</td></tr><tr><td>&quot;text_exercise_19&quot;</td><td>&quot;VicThanks for the heads up.Jamie/KarenJust wanted to fill you in on what occurred today. Read below…</td></tr><tr><td>&quot;text_exercise_19&quot;</td><td>&quot;Vic,I do not agree with your decision to act in regards to JJ. We need to discuss this further befo…</td></tr><tr><td>&quot;text_exercise_19&quot;</td><td>&quot;VicPlease hold off on any of this until we have approval from my supervision and HR.I do not approv…</td></tr><tr><td>&quot;text_exercise_19&quot;</td><td>&quot;Vic,I think you have over stepped some boundaries here. I would like for us to speak with an HR rep…</td></tr><tr><td>&quot;text_exercise_19&quot;</td><td>&quot;Vic I attached Karen to this email. I want to make sure we cover all basis before we react to harsh…</td></tr><tr><td>&quot;text_exercise_19&quot;</td><td>&quot;Vic,I had no idea. And now that you tell me this J.J did mention to me about a project he was worki…</td></tr><tr><td>&quot;text_exercise_19&quot;</td><td>&quot;Thankyou Vic for informing me. I would advise you to go ahead and escort him out now. I will take c…</td></tr><tr><td>&quot;text_exercise_19&quot;</td><td>&quot;Cory,Please see below and forward to the appropriate HR rep asap. I&#x27;m calling Vic to wait on HR bef…</td></tr><tr><td>&quot;text_exercise_19&quot;</td><td>&quot;Vic,Thank for sharing I have no issue with the terminationJamie&quot;</td></tr><tr><td>&quot;text_exercise_19&quot;</td><td>&quot;Hi Vic,Thanks for bringing this to my attention before making any action.This morning, I received a…</td></tr></tbody></table></div>"
            ],
            "text/plain": [
              "shape: (11110, 2)\n",
              "┌──────────────────┬───────────────────────────────────────────────────────────────────────────────┐\n",
              "│ variable         ┆ value                                                                         │\n",
              "│ ---              ┆ ---                                                                           │\n",
              "│ str              ┆ str                                                                           │\n",
              "╞══════════════════╪═══════════════════════════════════════════════════════════════════════════════╡\n",
              "│ text_exercise_4  ┆ Attached you will find notes from an exchange between two associates. Being   │\n",
              "│                  ┆ new here, I do not know …                                                     │\n",
              "│ text_exercise_4  ┆ I have called both of you to my office today because I have concern about     │\n",
              "│                  ┆ something I witnessed earl…                                                   │\n",
              "│ text_exercise_4  ┆ Cory,  Please see attachment for the interaction that happened earlier today. │\n",
              "│                  ┆ I will not be able to …                                                       │\n",
              "│ text_exercise_4  ┆ I notice this morning when i was walkingthrough the plant. that an            │\n",
              "│                  ┆ interaction was going on. I will …                                            │\n",
              "│ …                ┆ …                                                                             │\n",
              "│ text_exercise_19 ┆ Thankyou Vic for informing me. I would advise you to go ahead and escort him  │\n",
              "│                  ┆ out now. I will take ca…                                                      │\n",
              "│ text_exercise_19 ┆ Cory,Please see below and forward to the appropriate HR rep asap. I'm calling │\n",
              "│                  ┆ Vic to wait on HR befo…                                                       │\n",
              "│ text_exercise_19 ┆ Vic,Thank for sharing I have no issue with the terminationJamie               │\n",
              "│ text_exercise_19 ┆ Hi Vic,Thanks for bringing this to my attention before making any action.This │\n",
              "│                  ┆ morning, I received a …                                                       │\n",
              "└──────────────────┴───────────────────────────────────────────────────────────────────────────────┘"
            ]
          },
          "execution_count": 17,
          "metadata": {},
          "output_type": "execute_result"
        }
      ],
      "source": [
        "df_train_text_melt"
      ]
    },
    {
      "cell_type": "code",
      "execution_count": 18,
      "metadata": {},
      "outputs": [
        {
          "data": {
            "text/plain": [
              "<spacy.pipeline.sentencizer.Sentencizer at 0x7f55b6cd5d00>"
            ]
          },
          "execution_count": 18,
          "metadata": {},
          "output_type": "execute_result"
        }
      ],
      "source": [
        "from spacy.lang.en import English\n",
        "\n",
        "\n",
        "nlp = English()\n",
        "nlp.add_pipe('sentencizer')"
      ]
    },
    {
      "cell_type": "code",
      "execution_count": 19,
      "metadata": {},
      "outputs": [],
      "source": [
        "df_train_text_melt_pd = df_train_text_melt.to_pandas()"
      ]
    },
    {
      "cell_type": "code",
      "execution_count": 20,
      "metadata": {},
      "outputs": [],
      "source": [
        "corpus = st.CorpusFromPandas(df_train_text_melt_pd, category_col='variable', text_col='value', nlp=nlp).build()"
      ]
    },
    {
      "cell_type": "code",
      "execution_count": 21,
      "metadata": {},
      "outputs": [
        {
          "name": "stdout",
          "output_type": "stream",
          "text": [
            "['cory', 'debby', 'weedler', 'jamie', 'paxton', 'velma', 'shea', 'cary', 'jj', 'haley']\n"
          ]
        }
      ],
      "source": [
        "print(list(corpus.get_scaled_f_scores_vs_background().index[:10]))"
      ]
    },
    {
      "cell_type": "code",
      "execution_count": 22,
      "metadata": {},
      "outputs": [
        {
          "data": {
            "text/html": [
              "<div>\n",
              "<style scoped>\n",
              "    .dataframe tbody tr th:only-of-type {\n",
              "        vertical-align: middle;\n",
              "    }\n",
              "\n",
              "    .dataframe tbody tr th {\n",
              "        vertical-align: top;\n",
              "    }\n",
              "\n",
              "    .dataframe thead th {\n",
              "        text-align: right;\n",
              "    }\n",
              "</style>\n",
              "<table border=\"1\" class=\"dataframe\">\n",
              "  <thead>\n",
              "    <tr style=\"text-align: right;\">\n",
              "      <th></th>\n",
              "      <th>text_exercise_4 freq</th>\n",
              "      <th>text_exercise_5 freq</th>\n",
              "      <th>text_exercise_6 freq</th>\n",
              "      <th>text_exercise_7 freq</th>\n",
              "      <th>text_exercise_8 freq</th>\n",
              "      <th>text_exercise_9 freq</th>\n",
              "      <th>text_exercise_10 freq</th>\n",
              "      <th>text_exercise_11 freq</th>\n",
              "      <th>text_exercise_12 freq</th>\n",
              "      <th>text_exercise_13 freq</th>\n",
              "      <th>text_exercise_14 freq</th>\n",
              "      <th>text_exercise_15 freq</th>\n",
              "      <th>text_exercise_16 freq</th>\n",
              "      <th>text_exercise_17 freq</th>\n",
              "      <th>text_exercise_18 freq</th>\n",
              "      <th>text_exercise_19 freq</th>\n",
              "    </tr>\n",
              "    <tr>\n",
              "      <th>term</th>\n",
              "      <th></th>\n",
              "      <th></th>\n",
              "      <th></th>\n",
              "      <th></th>\n",
              "      <th></th>\n",
              "      <th></th>\n",
              "      <th></th>\n",
              "      <th></th>\n",
              "      <th></th>\n",
              "      <th></th>\n",
              "      <th></th>\n",
              "      <th></th>\n",
              "      <th></th>\n",
              "      <th></th>\n",
              "      <th></th>\n",
              "      <th></th>\n",
              "    </tr>\n",
              "  </thead>\n",
              "  <tbody>\n",
              "    <tr>\n",
              "      <th>attached</th>\n",
              "      <td>16</td>\n",
              "      <td>25</td>\n",
              "      <td>12</td>\n",
              "      <td>2</td>\n",
              "      <td>6</td>\n",
              "      <td>3</td>\n",
              "      <td>3</td>\n",
              "      <td>3</td>\n",
              "      <td>74</td>\n",
              "      <td>5</td>\n",
              "      <td>2</td>\n",
              "      <td>5</td>\n",
              "      <td>3</td>\n",
              "      <td>99</td>\n",
              "      <td>1</td>\n",
              "      <td>13</td>\n",
              "    </tr>\n",
              "    <tr>\n",
              "      <th>you</th>\n",
              "      <td>268</td>\n",
              "      <td>828</td>\n",
              "      <td>1590</td>\n",
              "      <td>1229</td>\n",
              "      <td>491</td>\n",
              "      <td>1456</td>\n",
              "      <td>213</td>\n",
              "      <td>622</td>\n",
              "      <td>1411</td>\n",
              "      <td>164</td>\n",
              "      <td>2205</td>\n",
              "      <td>2009</td>\n",
              "      <td>296</td>\n",
              "      <td>896</td>\n",
              "      <td>333</td>\n",
              "      <td>1978</td>\n",
              "    </tr>\n",
              "    <tr>\n",
              "      <th>will</th>\n",
              "      <td>149</td>\n",
              "      <td>227</td>\n",
              "      <td>1138</td>\n",
              "      <td>1574</td>\n",
              "      <td>121</td>\n",
              "      <td>1980</td>\n",
              "      <td>110</td>\n",
              "      <td>959</td>\n",
              "      <td>1227</td>\n",
              "      <td>166</td>\n",
              "      <td>866</td>\n",
              "      <td>2338</td>\n",
              "      <td>263</td>\n",
              "      <td>686</td>\n",
              "      <td>258</td>\n",
              "      <td>996</td>\n",
              "    </tr>\n",
              "    <tr>\n",
              "      <th>find</th>\n",
              "      <td>14</td>\n",
              "      <td>48</td>\n",
              "      <td>116</td>\n",
              "      <td>48</td>\n",
              "      <td>19</td>\n",
              "      <td>38</td>\n",
              "      <td>4</td>\n",
              "      <td>5</td>\n",
              "      <td>120</td>\n",
              "      <td>7</td>\n",
              "      <td>29</td>\n",
              "      <td>17</td>\n",
              "      <td>20</td>\n",
              "      <td>21</td>\n",
              "      <td>27</td>\n",
              "      <td>68</td>\n",
              "    </tr>\n",
              "    <tr>\n",
              "      <th>notes</th>\n",
              "      <td>2</td>\n",
              "      <td>3</td>\n",
              "      <td>5</td>\n",
              "      <td>0</td>\n",
              "      <td>2</td>\n",
              "      <td>2</td>\n",
              "      <td>66</td>\n",
              "      <td>3</td>\n",
              "      <td>0</td>\n",
              "      <td>40</td>\n",
              "      <td>2</td>\n",
              "      <td>9</td>\n",
              "      <td>4</td>\n",
              "      <td>1</td>\n",
              "      <td>1</td>\n",
              "      <td>2</td>\n",
              "    </tr>\n",
              "    <tr>\n",
              "      <th>...</th>\n",
              "      <td>...</td>\n",
              "      <td>...</td>\n",
              "      <td>...</td>\n",
              "      <td>...</td>\n",
              "      <td>...</td>\n",
              "      <td>...</td>\n",
              "      <td>...</td>\n",
              "      <td>...</td>\n",
              "      <td>...</td>\n",
              "      <td>...</td>\n",
              "      <td>...</td>\n",
              "      <td>...</td>\n",
              "      <td>...</td>\n",
              "      <td>...</td>\n",
              "      <td>...</td>\n",
              "      <td>...</td>\n",
              "    </tr>\n",
              "    <tr>\n",
              "      <th>, vicsent</th>\n",
              "      <td>0</td>\n",
              "      <td>0</td>\n",
              "      <td>0</td>\n",
              "      <td>0</td>\n",
              "      <td>0</td>\n",
              "      <td>0</td>\n",
              "      <td>0</td>\n",
              "      <td>0</td>\n",
              "      <td>0</td>\n",
              "      <td>0</td>\n",
              "      <td>0</td>\n",
              "      <td>0</td>\n",
              "      <td>0</td>\n",
              "      <td>0</td>\n",
              "      <td>0</td>\n",
              "      <td>1</td>\n",
              "    </tr>\n",
              "    <tr>\n",
              "      <th>vicsent :</th>\n",
              "      <td>0</td>\n",
              "      <td>0</td>\n",
              "      <td>0</td>\n",
              "      <td>0</td>\n",
              "      <td>0</td>\n",
              "      <td>0</td>\n",
              "      <td>0</td>\n",
              "      <td>0</td>\n",
              "      <td>0</td>\n",
              "      <td>0</td>\n",
              "      <td>0</td>\n",
              "      <td>0</td>\n",
              "      <td>0</td>\n",
              "      <td>0</td>\n",
              "      <td>0</td>\n",
              "      <td>1</td>\n",
              "    </tr>\n",
              "    <tr>\n",
              "      <th>10:40 amto</th>\n",
              "      <td>0</td>\n",
              "      <td>0</td>\n",
              "      <td>0</td>\n",
              "      <td>0</td>\n",
              "      <td>0</td>\n",
              "      <td>0</td>\n",
              "      <td>0</td>\n",
              "      <td>0</td>\n",
              "      <td>0</td>\n",
              "      <td>0</td>\n",
              "      <td>0</td>\n",
              "      <td>0</td>\n",
              "      <td>0</td>\n",
              "      <td>0</td>\n",
              "      <td>0</td>\n",
              "      <td>1</td>\n",
              "    </tr>\n",
              "    <tr>\n",
              "      <th>company informationcory</th>\n",
              "      <td>0</td>\n",
              "      <td>0</td>\n",
              "      <td>0</td>\n",
              "      <td>0</td>\n",
              "      <td>0</td>\n",
              "      <td>0</td>\n",
              "      <td>0</td>\n",
              "      <td>0</td>\n",
              "      <td>0</td>\n",
              "      <td>0</td>\n",
              "      <td>0</td>\n",
              "      <td>0</td>\n",
              "      <td>0</td>\n",
              "      <td>0</td>\n",
              "      <td>0</td>\n",
              "      <td>1</td>\n",
              "    </tr>\n",
              "    <tr>\n",
              "      <th>informationcory ,</th>\n",
              "      <td>0</td>\n",
              "      <td>0</td>\n",
              "      <td>0</td>\n",
              "      <td>0</td>\n",
              "      <td>0</td>\n",
              "      <td>0</td>\n",
              "      <td>0</td>\n",
              "      <td>0</td>\n",
              "      <td>0</td>\n",
              "      <td>0</td>\n",
              "      <td>0</td>\n",
              "      <td>0</td>\n",
              "      <td>0</td>\n",
              "      <td>0</td>\n",
              "      <td>0</td>\n",
              "      <td>1</td>\n",
              "    </tr>\n",
              "  </tbody>\n",
              "</table>\n",
              "<p>194551 rows × 16 columns</p>\n",
              "</div>"
            ],
            "text/plain": [
              "                         text_exercise_4 freq  text_exercise_5 freq  \\\n",
              "term                                                                  \n",
              "attached                                   16                    25   \n",
              "you                                       268                   828   \n",
              "will                                      149                   227   \n",
              "find                                       14                    48   \n",
              "notes                                       2                     3   \n",
              "...                                       ...                   ...   \n",
              ", vicsent                                   0                     0   \n",
              "vicsent :                                   0                     0   \n",
              "10:40 amto                                  0                     0   \n",
              "company informationcory                     0                     0   \n",
              "informationcory ,                           0                     0   \n",
              "\n",
              "                         text_exercise_6 freq  text_exercise_7 freq  \\\n",
              "term                                                                  \n",
              "attached                                   12                     2   \n",
              "you                                      1590                  1229   \n",
              "will                                     1138                  1574   \n",
              "find                                      116                    48   \n",
              "notes                                       5                     0   \n",
              "...                                       ...                   ...   \n",
              ", vicsent                                   0                     0   \n",
              "vicsent :                                   0                     0   \n",
              "10:40 amto                                  0                     0   \n",
              "company informationcory                     0                     0   \n",
              "informationcory ,                           0                     0   \n",
              "\n",
              "                         text_exercise_8 freq  text_exercise_9 freq  \\\n",
              "term                                                                  \n",
              "attached                                    6                     3   \n",
              "you                                       491                  1456   \n",
              "will                                      121                  1980   \n",
              "find                                       19                    38   \n",
              "notes                                       2                     2   \n",
              "...                                       ...                   ...   \n",
              ", vicsent                                   0                     0   \n",
              "vicsent :                                   0                     0   \n",
              "10:40 amto                                  0                     0   \n",
              "company informationcory                     0                     0   \n",
              "informationcory ,                           0                     0   \n",
              "\n",
              "                         text_exercise_10 freq  text_exercise_11 freq  \\\n",
              "term                                                                    \n",
              "attached                                     3                      3   \n",
              "you                                        213                    622   \n",
              "will                                       110                    959   \n",
              "find                                         4                      5   \n",
              "notes                                       66                      3   \n",
              "...                                        ...                    ...   \n",
              ", vicsent                                    0                      0   \n",
              "vicsent :                                    0                      0   \n",
              "10:40 amto                                   0                      0   \n",
              "company informationcory                      0                      0   \n",
              "informationcory ,                            0                      0   \n",
              "\n",
              "                         text_exercise_12 freq  text_exercise_13 freq  \\\n",
              "term                                                                    \n",
              "attached                                    74                      5   \n",
              "you                                       1411                    164   \n",
              "will                                      1227                    166   \n",
              "find                                       120                      7   \n",
              "notes                                        0                     40   \n",
              "...                                        ...                    ...   \n",
              ", vicsent                                    0                      0   \n",
              "vicsent :                                    0                      0   \n",
              "10:40 amto                                   0                      0   \n",
              "company informationcory                      0                      0   \n",
              "informationcory ,                            0                      0   \n",
              "\n",
              "                         text_exercise_14 freq  text_exercise_15 freq  \\\n",
              "term                                                                    \n",
              "attached                                     2                      5   \n",
              "you                                       2205                   2009   \n",
              "will                                       866                   2338   \n",
              "find                                        29                     17   \n",
              "notes                                        2                      9   \n",
              "...                                        ...                    ...   \n",
              ", vicsent                                    0                      0   \n",
              "vicsent :                                    0                      0   \n",
              "10:40 amto                                   0                      0   \n",
              "company informationcory                      0                      0   \n",
              "informationcory ,                            0                      0   \n",
              "\n",
              "                         text_exercise_16 freq  text_exercise_17 freq  \\\n",
              "term                                                                    \n",
              "attached                                     3                     99   \n",
              "you                                        296                    896   \n",
              "will                                       263                    686   \n",
              "find                                        20                     21   \n",
              "notes                                        4                      1   \n",
              "...                                        ...                    ...   \n",
              ", vicsent                                    0                      0   \n",
              "vicsent :                                    0                      0   \n",
              "10:40 amto                                   0                      0   \n",
              "company informationcory                      0                      0   \n",
              "informationcory ,                            0                      0   \n",
              "\n",
              "                         text_exercise_18 freq  text_exercise_19 freq  \n",
              "term                                                                   \n",
              "attached                                     1                     13  \n",
              "you                                        333                   1978  \n",
              "will                                       258                    996  \n",
              "find                                        27                     68  \n",
              "notes                                        1                      2  \n",
              "...                                        ...                    ...  \n",
              ", vicsent                                    0                      1  \n",
              "vicsent :                                    0                      1  \n",
              "10:40 amto                                   0                      1  \n",
              "company informationcory                      0                      1  \n",
              "informationcory ,                            0                      1  \n",
              "\n",
              "[194551 rows x 16 columns]"
            ]
          },
          "execution_count": 22,
          "metadata": {},
          "output_type": "execute_result"
        }
      ],
      "source": [
        "corpus.get_term_freq_df()"
      ]
    },
    {
      "cell_type": "code",
      "execution_count": 23,
      "metadata": {},
      "outputs": [],
      "source": [
        "from IPython.display import IFrame\n",
        "from IPython.display import display, HTML"
      ]
    },
    {
      "cell_type": "code",
      "execution_count": 24,
      "metadata": {},
      "outputs": [],
      "source": [
        "df_train_text_melt_pd['parse'] = df_train_text_melt_pd['value'].apply(nlp)"
      ]
    },
    {
      "cell_type": "code",
      "execution_count": 25,
      "metadata": {},
      "outputs": [
        {
          "data": {
            "text/html": [
              "<div>\n",
              "<style scoped>\n",
              "    .dataframe tbody tr th:only-of-type {\n",
              "        vertical-align: middle;\n",
              "    }\n",
              "\n",
              "    .dataframe tbody tr th {\n",
              "        vertical-align: top;\n",
              "    }\n",
              "\n",
              "    .dataframe thead th {\n",
              "        text-align: right;\n",
              "    }\n",
              "</style>\n",
              "<table border=\"1\" class=\"dataframe\">\n",
              "  <thead>\n",
              "    <tr style=\"text-align: right;\">\n",
              "      <th></th>\n",
              "      <th>variable</th>\n",
              "      <th>value</th>\n",
              "      <th>parse</th>\n",
              "    </tr>\n",
              "  </thead>\n",
              "  <tbody>\n",
              "    <tr>\n",
              "      <th>0</th>\n",
              "      <td>text_exercise_4</td>\n",
              "      <td>Attached you will find notes from an exchange ...</td>\n",
              "      <td>(Attached, you, will, find, notes, from, an, e...</td>\n",
              "    </tr>\n",
              "    <tr>\n",
              "      <th>1</th>\n",
              "      <td>text_exercise_4</td>\n",
              "      <td>I have called both of you to my office today b...</td>\n",
              "      <td>(I, have, called, both, of, you, to, my, offic...</td>\n",
              "    </tr>\n",
              "    <tr>\n",
              "      <th>2</th>\n",
              "      <td>text_exercise_4</td>\n",
              "      <td>Cory,  Please see attachment for the interacti...</td>\n",
              "      <td>(Cory, ,,  , Please, see, attachment, for, the...</td>\n",
              "    </tr>\n",
              "    <tr>\n",
              "      <th>3</th>\n",
              "      <td>text_exercise_4</td>\n",
              "      <td>I notice this morning when i was walkingthroug...</td>\n",
              "      <td>(I, notice, this, morning, when, i, was, walki...</td>\n",
              "    </tr>\n",
              "    <tr>\n",
              "      <th>4</th>\n",
              "      <td>text_exercise_4</td>\n",
              "      <td>Hey I had a talk with Larry and want to see wh...</td>\n",
              "      <td>(Hey, I, had, a, talk, with, Larry, and, want,...</td>\n",
              "    </tr>\n",
              "    <tr>\n",
              "      <th>...</th>\n",
              "      <td>...</td>\n",
              "      <td>...</td>\n",
              "      <td>...</td>\n",
              "    </tr>\n",
              "    <tr>\n",
              "      <th>11105</th>\n",
              "      <td>text_exercise_19</td>\n",
              "      <td>Vic,I had no idea. And now that you tell me th...</td>\n",
              "      <td>(Vic, ,, I, had, no, idea, ., And, now, that, ...</td>\n",
              "    </tr>\n",
              "    <tr>\n",
              "      <th>11106</th>\n",
              "      <td>text_exercise_19</td>\n",
              "      <td>Thankyou Vic for informing me. I would advise ...</td>\n",
              "      <td>(Thankyou, Vic, for, informing, me, ., I, woul...</td>\n",
              "    </tr>\n",
              "    <tr>\n",
              "      <th>11107</th>\n",
              "      <td>text_exercise_19</td>\n",
              "      <td>Cory,Please see below and forward to the appro...</td>\n",
              "      <td>(Cory, ,, Please, see, below, and, forward, to...</td>\n",
              "    </tr>\n",
              "    <tr>\n",
              "      <th>11108</th>\n",
              "      <td>text_exercise_19</td>\n",
              "      <td>Vic,Thank for sharing I have no issue with the...</td>\n",
              "      <td>(Vic, ,, Thank, for, sharing, I, have, no, iss...</td>\n",
              "    </tr>\n",
              "    <tr>\n",
              "      <th>11109</th>\n",
              "      <td>text_exercise_19</td>\n",
              "      <td>Hi Vic,Thanks for bringing this to my attentio...</td>\n",
              "      <td>(Hi, Vic, ,, Thanks, for, bringing, this, to, ...</td>\n",
              "    </tr>\n",
              "  </tbody>\n",
              "</table>\n",
              "<p>11110 rows × 3 columns</p>\n",
              "</div>"
            ],
            "text/plain": [
              "               variable                                              value  \\\n",
              "0       text_exercise_4  Attached you will find notes from an exchange ...   \n",
              "1       text_exercise_4  I have called both of you to my office today b...   \n",
              "2       text_exercise_4  Cory,  Please see attachment for the interacti...   \n",
              "3       text_exercise_4  I notice this morning when i was walkingthroug...   \n",
              "4       text_exercise_4  Hey I had a talk with Larry and want to see wh...   \n",
              "...                 ...                                                ...   \n",
              "11105  text_exercise_19  Vic,I had no idea. And now that you tell me th...   \n",
              "11106  text_exercise_19  Thankyou Vic for informing me. I would advise ...   \n",
              "11107  text_exercise_19  Cory,Please see below and forward to the appro...   \n",
              "11108  text_exercise_19  Vic,Thank for sharing I have no issue with the...   \n",
              "11109  text_exercise_19  Hi Vic,Thanks for bringing this to my attentio...   \n",
              "\n",
              "                                                   parse  \n",
              "0      (Attached, you, will, find, notes, from, an, e...  \n",
              "1      (I, have, called, both, of, you, to, my, offic...  \n",
              "2      (Cory, ,,  , Please, see, attachment, for, the...  \n",
              "3      (I, notice, this, morning, when, i, was, walki...  \n",
              "4      (Hey, I, had, a, talk, with, Larry, and, want,...  \n",
              "...                                                  ...  \n",
              "11105  (Vic, ,, I, had, no, idea, ., And, now, that, ...  \n",
              "11106  (Thankyou, Vic, for, informing, me, ., I, woul...  \n",
              "11107  (Cory, ,, Please, see, below, and, forward, to...  \n",
              "11108  (Vic, ,, Thank, for, sharing, I, have, no, iss...  \n",
              "11109  (Hi, Vic, ,, Thanks, for, bringing, this, to, ...  \n",
              "\n",
              "[11110 rows x 3 columns]"
            ]
          },
          "execution_count": 25,
          "metadata": {},
          "output_type": "execute_result"
        }
      ],
      "source": [
        "df_train_text_melt_pd"
      ]
    },
    {
      "cell_type": "code",
      "execution_count": 26,
      "metadata": {},
      "outputs": [],
      "source": [
        "for variable in df_train_text_melt_pd['variable'].unique():\n",
        "    df_train_text_melt_pd['category'] = df_train_text_melt_pd['variable'].apply(lambda x: variable if x == variable else 'Other exercise')\n",
        "    html = st.produce_scattertext_explorer(st.CorpusFromParsedDocuments(df_train_text_melt_pd, category_col='category', parsed_col='parse').build(),\n",
        "                                           category=variable,\n",
        "                                           category_name=variable,\n",
        "                                           not_category_name='All Others',\n",
        "                                           width_in_pixels=1000,\n",
        "                                           minimum_term_frequency=4,\n",
        "                                           term_ranker=st.OncePerDocFrequencyRanker,\n",
        "                                           pmi_threshold_coefficient=6)\n",
        "    file_name = variable+'.html'\n",
        "    with open(file_name, 'wb') as fn:\n",
        "        fn.write(html.encode('utf-8'))"
      ]
    },
    {
      "cell_type": "code",
      "execution_count": 31,
      "metadata": {},
      "outputs": [],
      "source": [
        "default_exercise = 'text_exercise_4'\n",
        "with open('selector.html', 'w') as fn:\n",
        "    contents = '''\n",
        "<html><body>\n",
        "<h2 style=\"font-family: Helvetica, Arial, Sans-Serif\">See how language use differed among ACL 2017 tracks and workshops</h2>\n",
        "<div style=\"font-family: Helvetica, Arial, Sans-Serif\">\n",
        "<form><b>Select a track or workshop:</b><select id=\"selector\" onchange=\"document.getElementById('myiframe').src = this.options[this.selectedIndex].value\">\n",
        "<option>Select an exercise:</option>\n",
        "''' + ''.join(['<option value=\"%s.html\"%s>%s</option>\\n' % (variable, (' selected' if variable==default_exercise else ''), variable) for variable in df_train_text_melt_pd['variable'].unique()]) + '''\n",
        "</select></form><iframe name=\"myiframe\" id=\"myiframe\" width=1200 height=800 src=\"'''+default_exercise+'''.html\"></iframe></body></html>\n",
        "'''\n",
        "    fn.write(contents)\n",
        "\n",
        "# Open the selector.html file in chrome"
      ]
    }
  ],
  "metadata": {
    "colab": {
      "provenance": []
    },
    "kernelspec": {
      "display_name": "siop_ml_python",
      "language": "python",
      "name": "python3"
    },
    "language_info": {
      "codemirror_mode": {
        "name": "ipython",
        "version": 3
      },
      "file_extension": ".py",
      "mimetype": "text/x-python",
      "name": "python",
      "nbconvert_exporter": "python",
      "pygments_lexer": "ipython3",
      "version": "3.9.12"
    },
    "vscode": {
      "interpreter": {
        "hash": "7cea5754670eb905f81235ea249da8354044c8e08785ff4dc2ccad09de67c119"
      }
    }
  },
  "nbformat": 4,
  "nbformat_minor": 0
}
